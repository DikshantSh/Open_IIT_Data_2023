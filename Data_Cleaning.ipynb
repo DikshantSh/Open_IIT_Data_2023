{
 "cells": [
  {
   "cell_type": "code",
   "execution_count": null,
   "metadata": {
    "id": "zLGGlVdaV_XM"
   },
   "outputs": [],
   "source": [
    "import pandas as pd\n",
    "import matplotlib.pyplot as plt\n",
    "import numpy as np"
   ]
  },
  {
   "cell_type": "code",
   "execution_count": null,
   "metadata": {
    "colab": {
     "base_uri": "https://localhost:8080/"
    },
    "id": "cCMPtj76UxXI",
    "outputId": "17620fa6-6ad8-4bbb-b321-724d17da4a68"
   },
   "outputs": [],
   "source": [
    "# Mount your Google Drive in Google Colab.\n",
    "# from google.colab import drive\n",
    "# drive.mount('/content/drive')"
   ]
  },
  {
   "cell_type": "code",
   "execution_count": null,
   "metadata": {
    "id": "JvnAAqGvVdej"
   },
   "outputs": [],
   "source": [
    "# csv_path = '/content/drive/My Drive/Open IIT Data Team : Not ARIMA/Shimla.csv'\n",
    "# df = pd.read_csv(csv_path)"
   ]
  },
  {
   "cell_type": "code",
   "execution_count": null,
   "metadata": {
    "id": "JvnAAqGvVdej"
   },
   "outputs": [],
   "source": [
    "df = pd.read_csv('Shimla.csv')"
   ]
  },
  {
   "cell_type": "code",
   "execution_count": null,
   "metadata": {
    "colab": {
     "base_uri": "https://localhost:8080/",
     "height": 241
    },
    "id": "ogj_ow3RV4Wm",
    "outputId": "03ee2f9c-bbbc-4781-a227-4775ea856ebd",
    "scrolled": true
   },
   "outputs": [],
   "source": [
    "df.head(50)"
   ]
  },
  {
   "cell_type": "code",
   "execution_count": null,
   "metadata": {
    "id": "JSd0raPQWIDB"
   },
   "outputs": [],
   "source": [
    "X=df.iloc[:,1:]\n",
    "X.columns=df.columns[1:]\n",
    "sorted_columns = sorted(X.columns)\n",
    "X = X.reindex(columns=sorted_columns)\n",
    "X=X.iloc[:,:-1]\n",
    "\n",
    "y=df.iloc[:,1]"
   ]
  },
  {
   "cell_type": "code",
   "execution_count": null,
   "metadata": {
    "colab": {
     "base_uri": "https://localhost:8080/",
     "height": 241
    },
    "id": "VV1D1vD6sN1Z",
    "outputId": "922a6e4d-9db0-43d5-a8dd-cf1e5c440f96"
   },
   "outputs": [],
   "source": [
    "X.head()"
   ]
  },
  {
   "cell_type": "code",
   "execution_count": null,
   "metadata": {
    "colab": {
     "base_uri": "https://localhost:8080/"
    },
    "id": "rEPFqOBdsgUn",
    "outputId": "728051d3-4e84-4cc1-806a-0285f2fbf378"
   },
   "outputs": [],
   "source": [
    "X.dtypes"
   ]
  },
  {
   "cell_type": "code",
   "execution_count": null,
   "metadata": {
    "id": "GCaacQzgs3Fq"
   },
   "outputs": [],
   "source": [
    "XTrain=X.iloc[:12,:]\n",
    "XTrain.columns=X.columns\n",
    "\n",
    "YTrain=y.iloc[:12]"
   ]
  },
  {
   "cell_type": "code",
   "execution_count": null,
   "metadata": {
    "colab": {
     "base_uri": "https://localhost:8080/",
     "height": 241
    },
    "id": "4iO1j_myvfR1",
    "outputId": "0662ea77-2f87-422f-c928-39b4e5d19fa7"
   },
   "outputs": [],
   "source": [
    "XTrain.head()"
   ]
  },
  {
   "cell_type": "code",
   "execution_count": null,
   "metadata": {
    "colab": {
     "base_uri": "https://localhost:8080/"
    },
    "id": "9YzgRqRXtgEc",
    "outputId": "80e6a649-2951-4874-c543-f5366181ec1f"
   },
   "outputs": [],
   "source": [
    "print(XTrain.shape)\n",
    "print(YTrain.shape)"
   ]
  },
  {
   "cell_type": "markdown",
   "metadata": {},
   "source": [
    "### Plotting features"
   ]
  },
  {
   "cell_type": "code",
   "execution_count": null,
   "metadata": {
    "colab": {
     "base_uri": "https://localhost:8080/",
     "height": 787
    },
    "id": "I0JPDTK-thKG",
    "outputId": "5893861d-eb21-4e0b-d2cb-4750f76fc84c"
   },
   "outputs": [],
   "source": [
    "fig, axes = plt.subplots(4, 3, figsize=(12, 8))\n",
    "axes = axes.ravel()\n",
    "for i, col in enumerate(XTrain.columns):\n",
    "    ax = axes[i]\n",
    "    ax.plot(XTrain.index, XTrain[col])\n",
    "    ax.set_title(f'{XTrain.columns[i]}')\n",
    "    ax.set_xlabel('Index')\n",
    "    ax.set_ylabel(col)\n",
    "    \n",
    "plt.tight_layout()\n",
    "plt.show()"
   ]
  },
  {
   "cell_type": "code",
   "execution_count": null,
   "metadata": {},
   "outputs": [],
   "source": [
    "import matplotlib.pyplot as plt\n",
    "\n",
    "# Assuming you have XTrain and y_train as pandas DataFrames or Series\n",
    "\n",
    "# Create subplots for XTrain columns\n",
    "fig, axes = plt.subplots(4, 3, figsize=(12, 8))\n",
    "axes = axes.ravel()\n",
    "for i, col in enumerate(XTrain.columns):\n",
    "    ax = axes[i]\n",
    "    ax.plot(XTrain.index, XTrain[col])\n",
    "    ax.set_title(f'{XTrain.columns[i]}')\n",
    "    ax.set_xlabel('Index')\n",
    "    ax.set_ylabel(col)\n",
    "\n",
    "# Add a subplot for y_train\n",
    "ax = axes[-1]\n",
    "ax.plot(XTrain.index, YTrain, color='red')  # Adjust the color as needed\n",
    "ax.set_title('y_train')\n",
    "ax.set_xlabel('Index')\n",
    "ax.set_ylabel('y_train')\n",
    "\n",
    "plt.tight_layout()\n",
    "plt.show()\n"
   ]
  },
  {
   "cell_type": "code",
   "execution_count": null,
   "metadata": {},
   "outputs": [],
   "source": [
    "column_to_drop = \"Monthly Data\"  \n",
    "XTrain = XTrain.drop(column_to_drop, axis=1)"
   ]
  },
  {
   "cell_type": "code",
   "execution_count": null,
   "metadata": {},
   "outputs": [],
   "source": [
    "corrmat = XTrain.corr()\n",
    "\n",
    "plt.figure(figsize=(8, 6))\n",
    "sns.heatmap(corrmat, annot=True, cmap='coolwarm', linewidths=0.5)\n",
    "plt.title('Correlation Heatmap')\n",
    "plt.show()"
   ]
  },
  {
   "cell_type": "code",
   "execution_count": null,
   "metadata": {},
   "outputs": [],
   "source": [
    "from sklearn.preprocessing import MinMaxScaler\n",
    "scaler = MinMaxScaler()\n",
    "XTrain_normalized = scaler.fit_transform(XTrain)"
   ]
  },
  {
   "cell_type": "code",
   "execution_count": null,
   "metadata": {},
   "outputs": [],
   "source": [
    "y.shape"
   ]
  },
  {
   "cell_type": "code",
   "execution_count": null,
   "metadata": {},
   "outputs": [],
   "source": [
    "# data_reshaped = y.to_numpy().reshape(13, 12)\n",
    "\n",
    "# Calculate the average for each group of 12 indexes (across each row)\n",
    "# averages = data_reshaped.mean(axis=1)\n",
    "\n",
    "# Create an array for the x-axis (assuming each group represents a time period)\n",
    "x = np.arange(1, 157)  # Assuming 13 groups\n",
    "\n",
    "# Plot the averages\n",
    "plt.plot(x, y, marker='o')\n",
    "plt.xlabel('Time Period')\n",
    "plt.ylabel('Average Value')\n",
    "plt.title('Average of Every 12 Indexes')\n",
    "plt.grid(True)\n",
    "plt.show()\n"
   ]
  },
  {
   "cell_type": "code",
   "execution_count": null,
   "metadata": {},
   "outputs": [],
   "source": [
    "data_reshaped = y.to_numpy().reshape(13, 12)\n",
    "\n",
    "# Calculate the average for each group of 12 indexes (across each row)\n",
    "averages = data_reshaped.mean(axis=1)\n",
    "\n",
    "# Create an array for the x-axis (assuming each group represents a time period)\n",
    "x = np.arange(1, 14)  # Assuming 13 groups\n",
    "\n",
    "# Plot the averages\n",
    "plt.plot(x, averages, marker='o')\n",
    "plt.xlabel('Time Period')\n",
    "plt.ylabel('Average Value')\n",
    "plt.title('Average of Every 12 Indexes')\n",
    "plt.grid(True)\n",
    "plt.show()\n"
   ]
  },
  {
   "cell_type": "code",
   "execution_count": null,
   "metadata": {},
   "outputs": [],
   "source": []
  },
  {
   "cell_type": "markdown",
   "metadata": {},
   "source": [
    " "
   ]
  },
  {
   "cell_type": "markdown",
   "metadata": {},
   "source": [
    "### Model Selection"
   ]
  },
  {
   "cell_type": "code",
   "execution_count": null,
   "metadata": {},
   "outputs": [],
   "source": [
    "X=df.iloc[:,1:]\n",
    "X.columns=df.columns[1:]\n",
    "sorted_columns = sorted(X.columns)\n",
    "X = X.reindex(columns=sorted_columns)\n",
    "column_to_drop = \"Monthly Data\"  \n",
    "X = X.drop(column_to_drop, axis=1)\n",
    "X=X.iloc[:,:-1]\n",
    "\n",
    "y=df.iloc[:,0]"
   ]
  },
  {
   "cell_type": "code",
   "execution_count": null,
   "metadata": {},
   "outputs": [],
   "source": [
    "X_reshaped=X.to_numpy().reshape(13,12,11)\n",
    "y_reshaped=y.to_numpy().reshape(13,12)"
   ]
  },
  {
   "cell_type": "code",
   "execution_count": null,
   "metadata": {},
   "outputs": [],
   "source": [
    "X.head()"
   ]
  },
  {
   "cell_type": "code",
   "execution_count": null,
   "metadata": {},
   "outputs": [],
   "source": [
    "y"
   ]
  },
  {
   "cell_type": "code",
   "execution_count": null,
   "metadata": {},
   "outputs": [],
   "source": [
    "print(X_reshaped.shape)\n",
    "print(y_reshaped.shape)"
   ]
  },
  {
   "cell_type": "code",
   "execution_count": null,
   "metadata": {},
   "outputs": [],
   "source": [
    "import tensorflow as tf\n",
    "from tensorflow import keras\n",
    "from tensorflow.keras import layers\n",
    "\n",
    "model = keras.Sequential()\n",
    "model.add(layers.LSTM(50, input_shape=(12, 11), return_sequences=True))\n",
    "model.add(layers.TimeDistributed(layers.Dense(12)))  \n",
    "model.compile(optimizer='adam', loss='mean_squared_error')\n",
    "model.fit(X_reshaped, y_reshaped, epochs=100, batch_size=32, validation_data=(X_reshaped[0], y_reshaped[0]))"
   ]
  },
  {
   "cell_type": "code",
   "execution_count": null,
   "metadata": {},
   "outputs": [],
   "source": [
    "import numpy as np\n",
    "import tensorflow as tf\n",
    "from tensorflow import keras\n",
    "from tensorflow.keras import layers\n",
    "\n",
    "model = keras.Sequential([\n",
    "    layers.LSTM(100, input_shape=(12, 11), return_sequences=True),\n",
    "    layers.LSTM(100, return_sequences=True),\n",
    "    layers.Dense(1)  # Adjust the output layer based on your problem\n",
    "])\n",
    "\n",
    "# Compile the model\n",
    "model.compile(loss='mean_squared_error', optimizer='adam')\n",
    "\n",
    "# Train the model\n",
    "model.fit(X_reshaped, y_reshaped, epochs=100, batch_size=32, validation_data=(X_reshaped, y_reshaped))"
   ]
  },
  {
   "cell_type": "code",
   "execution_count": null,
   "metadata": {},
   "outputs": [],
   "source": [
    "y_pred = model.predict(X_reshaped[0].reshape(1,12,11))"
   ]
  },
  {
   "cell_type": "code",
   "execution_count": null,
   "metadata": {},
   "outputs": [],
   "source": [
    "y_pred"
   ]
  },
  {
   "cell_type": "code",
   "execution_count": null,
   "metadata": {},
   "outputs": [],
   "source": [
    "y_pred.shape"
   ]
  },
  {
   "cell_type": "code",
   "execution_count": null,
   "metadata": {},
   "outputs": [],
   "source": [
    "y_reshaped[0].shape"
   ]
  },
  {
   "cell_type": "code",
   "execution_count": null,
   "metadata": {},
   "outputs": [],
   "source": [
    "y_reshaped[0]"
   ]
  },
  {
   "cell_type": "code",
   "execution_count": null,
   "metadata": {},
   "outputs": [],
   "source": []
  },
  {
   "cell_type": "code",
   "execution_count": null,
   "metadata": {},
   "outputs": [],
   "source": [
    "import matplotlib.pyplot as plt\n",
    "x = range(12)\n",
    "plt.plot(x, y_reshaped[0], label='Actual', color='blue')\n",
    "plt.plot(x, y_pred.reshape(12), label='Predicted', color='red')\n",
    "\n",
    "# Add labels and a legend\n",
    "plt.xlabel('Time or Data Points')\n",
    "plt.ylabel('Values')\n",
    "plt.legend()\n",
    "\n",
    "# Show the plot\n",
    "plt.show()\n"
   ]
  },
  {
   "cell_type": "code",
   "execution_count": null,
   "metadata": {},
   "outputs": [],
   "source": []
  },
  {
   "cell_type": "code",
   "execution_count": null,
   "metadata": {},
   "outputs": [],
   "source": [
    "# Evaluate the model\n",
    "test_loss = model.evaluate(X_test, y_test)\n",
    "print(\"Test Loss:\", test_loss)"
   ]
  },
  {
   "cell_type": "code",
   "execution_count": null,
   "metadata": {},
   "outputs": [],
   "source": [
    "# Evaluate the model on the testing data\n",
    "loss = model.evaluate(XTrain, YTrain)\n",
    "print(\"Test Loss:\", loss)"
   ]
  },
  {
   "cell_type": "code",
   "execution_count": null,
   "metadata": {},
   "outputs": [],
   "source": []
  }
 ],
 "metadata": {
  "colab": {
   "provenance": []
  },
  "kernelspec": {
   "display_name": "Python 3 (ipykernel)",
   "language": "python",
   "name": "python3"
  },
  "language_info": {
   "codemirror_mode": {
    "name": "ipython",
    "version": 3
   },
   "file_extension": ".py",
   "mimetype": "text/x-python",
   "name": "python",
   "nbconvert_exporter": "python",
   "pygments_lexer": "ipython3",
   "version": "3.9.13"
  }
 },
 "nbformat": 4,
 "nbformat_minor": 1
}
