{
 "cells": [
  {
   "cell_type": "code",
   "execution_count": null,
   "metadata": {
    "id": "zLGGlVdaV_XM"
   },
   "outputs": [],
   "source": [
    "import pandas as pd\n",
    "import matplotlib.pyplot as plt\n",
    "import numpy as np"
   ]
  },
  {
   "cell_type": "code",
   "execution_count": null,
   "metadata": {
    "id": "JvnAAqGvVdej"
   },
   "outputs": [],
   "source": [
    "df = pd.read_csv('Shimla_new.csv')"
   ]
  },
  {
   "cell_type": "code",
   "execution_count": null,
   "metadata": {},
   "outputs": [],
   "source": [
    "df.head()"
   ]
  },
  {
   "cell_type": "code",
   "execution_count": null,
   "metadata": {},
   "outputs": [],
   "source": []
  },
  {
   "cell_type": "markdown",
   "metadata": {},
   "source": [
    "Correlation Matrix"
   ]
  },
  {
   "cell_type": "code",
   "execution_count": null,
   "metadata": {},
   "outputs": [],
   "source": [
    "corrmat = df.corr()\n",
    "\n",
    "plt.figure(figsize=(8, 6))\n",
    "sns.heatmap(corrmat, annot=True, cmap='coolwarm', linewidths=0.5)\n",
    "plt.title('Correlation Heatmap')\n",
    "plt.show()"
   ]
  },
  {
   "cell_type": "markdown",
   "metadata": {},
   "source": [
    "Line Plot"
   ]
  },
  {
   "cell_type": "code",
   "execution_count": null,
   "metadata": {},
   "outputs": [],
   "source": [
    "import matplotlib.pyplot as plt\n",
    "import seaborn as sns\n",
    "\n",
    "sns.set(style=\"whitegrid\")\n",
    "\n",
    "# Assuming df is your DataFrame\n",
    "sns.lineplot(x='Year', y='Total Tourists', data=df)\n",
    "plt.xlabel('Year')\n",
    "plt.ylabel('Total Tourists')\n",
    "plt.title('Total Tourists Over the Years')\n",
    "plt.show()\n"
   ]
  },
  {
   "cell_type": "markdown",
   "metadata": {},
   "source": [
    "Bar Plot"
   ]
  },
  {
   "cell_type": "code",
   "execution_count": null,
   "metadata": {},
   "outputs": [],
   "source": [
    "import matplotlib.pyplot as plt\n",
    "import seaborn as sns\n",
    "\n",
    "sns.set(style=\"whitegrid\")\n",
    "\n",
    "# Assuming df is your DataFrame\n",
    "sns.barplot(x='Month', y='Total Tourists', data=df)\n",
    "plt.xlabel('Month')\n",
    "plt.ylabel('Total Tourists')\n",
    "plt.title('Total Tourists by Month')\n",
    "plt.show()\n"
   ]
  },
  {
   "cell_type": "markdown",
   "metadata": {},
   "source": [
    "Scatter Plot"
   ]
  },
  {
   "cell_type": "code",
   "execution_count": null,
   "metadata": {},
   "outputs": [],
   "source": [
    "import matplotlib.pyplot as plt\n",
    "import seaborn as sns\n",
    "\n",
    "# Set the plot style to a different Seaborn theme (e.g., \"whitegrid\")\n",
    "sns.set(style=\"whitegrid\")\n",
    "\n",
    "# Get unique years from your data\n",
    "years = df['Year'].unique()\n",
    "\n",
    "# Create a Seaborn relplot for visualization with a custom palette\n",
    "# You can specify a different palette using the 'palette' parameter\n",
    "sns.relplot(x='Year', y='Total Tourists', hue='Month', data=df, palette=\"Set2\", height=8, aspect=1)\n",
    "\n",
    "# Set the x-axis ticks to show only unique years\n",
    "plt.xticks(ticks=years, labels=years)\n",
    "\n",
    "# Set the title for the plot\n",
    "plt.title(\"Total Tourists Over the Years\")\n",
    "\n",
    "plt.show()\n"
   ]
  },
  {
   "cell_type": "markdown",
   "metadata": {},
   "source": [
    "Histogram"
   ]
  },
  {
   "cell_type": "code",
   "execution_count": null,
   "metadata": {},
   "outputs": [],
   "source": [
    "import matplotlib.pyplot as plt\n",
    "import seaborn as sns\n",
    "\n",
    "sns.set(style=\"whitegrid\")\n",
    "\n",
    "# Assuming df is your DataFrame\n",
    "sns.histplot(df['Total Tourists'], kde=True)\n",
    "plt.xlabel('Total Tourists')\n",
    "plt.ylabel('Frequency')\n",
    "plt.title('Distribution of Total Tourists')\n",
    "plt.show()\n"
   ]
  },
  {
   "cell_type": "markdown",
   "metadata": {},
   "source": [
    "Pie chart"
   ]
  },
  {
   "cell_type": "code",
   "execution_count": null,
   "metadata": {},
   "outputs": [],
   "source": [
    "import matplotlib.pyplot as plt\n",
    "\n",
    "# Assuming df is your DataFrame\n",
    "# Group the data by month and calculate the total tourists in each month\n",
    "monthly_totals = df.groupby('Month')['Total Tourists'].sum()\n",
    "\n",
    "# Create a pie chart\n",
    "plt.figure(figsize=(6, 6))  # Adjust the figure size as needed\n",
    "plt.pie(monthly_totals, labels=monthly_totals.index, autopct='%1.1f%%', startangle=140)\n",
    "plt.title('Total Tourists by Month')\n",
    "plt.axis('equal')  # Equal aspect ratio ensures that the pie chart is circular.\n",
    "\n",
    "# Show the pie chart\n",
    "plt.show()\n"
   ]
  },
  {
   "cell_type": "code",
   "execution_count": null,
   "metadata": {},
   "outputs": [],
   "source": []
  },
  {
   "cell_type": "code",
   "execution_count": null,
   "metadata": {},
   "outputs": [],
   "source": [
    "import seaborn as sns\n",
    "import matplotlib.pyplot as plt\n",
    "\n",
    "# Assuming df is your DataFrame\n",
    "\n",
    "# List of features (columns) you want to create scatter plots for\n",
    "features_to_plot = df.columns  # Replace with your actual column names\n",
    "\n",
    "# Create separate scatter plots with linear regression lines for each feature\n",
    "for feature in features_to_plot:\n",
    "    plt.figure(figsize=(8, 6))  # Adjust the figure size as needed\n",
    "    sns.lmplot(x='Year', y=feature, data=df, hue='Month')\n",
    "    plt.title(f'Scatter Plot with Linear Regression Line for {feature}')\n",
    "    plt.xlabel('Year')\n",
    "    plt.ylabel(feature)\n",
    "    plt.show()\n"
   ]
  },
  {
   "cell_type": "code",
   "execution_count": null,
   "metadata": {},
   "outputs": [],
   "source": []
  },
  {
   "cell_type": "code",
   "execution_count": null,
   "metadata": {},
   "outputs": [],
   "source": [
    "import seaborn as sns\n",
    "import matplotlib.pyplot as plt\n",
    "\n",
    "# Assuming df is your DataFrame\n",
    "\n",
    "# List of months you want to create scatter plots for\n",
    "months_to_plot = df['Month'].unique()  # Assuming 'Month' is a column in your DataFrame\n",
    "\n",
    "# Create separate scatter plots with linear regression lines for each month\n",
    "for month in months_to_plot:\n",
    "    month_data = df[df['Month'] == month]\n",
    "    plt.figure(figsize=(8, 6))  # Adjust the figure size as needed\n",
    "    sns.lmplot(x='Year', y='Total Tourists', data=month_data)\n",
    "    plt.title(f'Scatter Plot with Linear Regression Line for {month}')\n",
    "    plt.xlabel('Year')\n",
    "    plt.ylabel('Total Tourists')\n",
    "    plt.show()\n"
   ]
  }
 ],
 "metadata": {
  "colab": {
   "provenance": []
  },
  "kernelspec": {
   "display_name": "Python 3 (ipykernel)",
   "language": "python",
   "name": "python3"
  },
  "language_info": {
   "codemirror_mode": {
    "name": "ipython",
    "version": 3
   },
   "file_extension": ".py",
   "mimetype": "text/x-python",
   "name": "python",
   "nbconvert_exporter": "python",
   "pygments_lexer": "ipython3",
   "version": "3.9.13"
  }
 },
 "nbformat": 4,
 "nbformat_minor": 1
}
